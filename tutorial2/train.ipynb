{
 "cells": [
  {
   "cell_type": "markdown",
   "metadata": {},
   "source": [
    "# Deep Learning Tutorial 2: Training"
   ]
  },
  {
   "cell_type": "markdown",
   "metadata": {},
   "source": [
    "Welcome to the second deep learning tutorial!\n",
    "\n",
    "In this notebook, we are going to apply recurrent neural networks to time series data in order to predict if a hard drive will fail the next day given a series of daily S.M.A.R.T. status observations.\n",
    "\n",
    "Note that you can interrupt the training process at any time by clicking on *Kernel* and then *Interrupt*."
   ]
  },
  {
   "cell_type": "markdown",
   "metadata": {},
   "source": [
    "## Preparation"
   ]
  },
  {
   "cell_type": "markdown",
   "metadata": {},
   "source": [
    "We will be using the [Keras](http://keras.io) framework that abstracts away a lot of the tedious details of deep learning. We will only use the [funcational API](https://keras.io/getting-started/functional-api-guide/) due to its expressive power."
   ]
  },
  {
   "cell_type": "code",
   "execution_count": 1,
   "metadata": {
    "collapsed": false
   },
   "outputs": [
    {
     "name": "stderr",
     "output_type": "stream",
     "text": [
      "Using Theano backend.\n"
     ]
    }
   ],
   "source": [
    "import numpy as np\n",
    "np.random.seed(42)\n",
    "\n",
    "from keras.models import Model\n",
    "from keras.layers import *\n",
    "from keras.layers.wrappers import *\n",
    "from keras.optimizers import *\n",
    "from keras.utils.visualize_util import plot, model_to_dot\n",
    "from IPython.display import SVG\n",
    "\n",
    "from callbacks import AUCHistory"
   ]
  },
  {
   "cell_type": "markdown",
   "metadata": {},
   "source": [
    "### Loading our data"
   ]
  },
  {
   "cell_type": "markdown",
   "metadata": {},
   "source": [
    "Data has been saved in a file named *data.npz*. It can be loaded using *np.load* and then behaves similar to a Python dictionary, where they keys *records* and *labels* corresponds to a numpy array for our input data and our labels, respectively."
   ]
  },
  {
   "cell_type": "code",
   "execution_count": 2,
   "metadata": {
    "collapsed": false
   },
   "outputs": [],
   "source": [
    "saved = np.load(\"data.npz\")\n",
    "data = saved[\"records\"]\n",
    "labels = saved[\"labels\"]"
   ]
  },
  {
   "cell_type": "markdown",
   "metadata": {},
   "source": [
    "The input data is a 3-dimensional array, where the first dimension corresponds to the number of instances, the second dimension to the number of time steps, and the third dimension to the number of features."
   ]
  },
  {
   "cell_type": "code",
   "execution_count": 3,
   "metadata": {
    "collapsed": false
   },
   "outputs": [
    {
     "data": {
      "text/plain": [
       "(74574, 90, 15)"
      ]
     },
     "execution_count": 3,
     "metadata": {},
     "output_type": "execute_result"
    }
   ],
   "source": [
    "data.shape"
   ]
  },
  {
   "cell_type": "markdown",
   "metadata": {},
   "source": [
    "More specifically, 74574 is the number of drives in our data, 90 the number of observations per drive, and 15 features per record. Let us define some variables to make this more obvious."
   ]
  },
  {
   "cell_type": "code",
   "execution_count": 4,
   "metadata": {
    "collapsed": false
   },
   "outputs": [],
   "source": [
    "n_drives = data.shape[0]\n",
    "n_records = data.shape[1]\n",
    "n_features = data.shape[2]"
   ]
  },
  {
   "cell_type": "markdown",
   "metadata": {},
   "source": [
    "First, we define the input layer, which just takes in our data. It does not contain any logic other than defining the shape of our input. Since we use the functional API, this also means that all matrix shapes in the following layers will be inferred automatically."
   ]
  },
  {
   "cell_type": "code",
   "execution_count": 5,
   "metadata": {
    "collapsed": false
   },
   "outputs": [],
   "source": [
    "input = Input(shape=(n_records, n_features), name=\"inputs\")"
   ]
  },
  {
   "cell_type": "markdown",
   "metadata": {},
   "source": [
    "Note that the first dimension, *n_drives*, is automatically inferred."
   ]
  },
  {
   "cell_type": "markdown",
   "metadata": {},
   "source": [
    "Now, the fun parts starts. We will add an LSTM layer that summarizes each drive by performing the same computation on vectors of size n_features for each n_records.\n",
    "\n",
    "Remember the unfolding in time computation graph for an RNN\n",
    "\n",
    "![image](http://d3kbpzbmcynnmx.cloudfront.net/wp-content/uploads/2015/09/rnn.jpg)\n",
    "\n",
    "where $x_t$ are observations for a particular drive, e.g. $x_1$ is the first observation and $x_2$ is the second observation. In our case, we are only interested in the last output $o_t$ where $t = \\text{n_records}$. The output of this LSTM will be a vector of size 10. In other words, the LSTM has 10 neurons in the output layer."
   ]
  },
  {
   "cell_type": "code",
   "execution_count": 7,
   "metadata": {
    "collapsed": false
   },
   "outputs": [],
   "source": [
    "x = LSTM(10)(input)"
   ]
  },
  {
   "cell_type": "markdown",
   "metadata": {},
   "source": [
    "We're almost done! Let's wire up the 10 output neurons of the LSTM to just a single output neuron using a [Dense](https://keras.io/layers/core/#dense) layer. A Dense layer is just your regular fully connected NN layer.\n",
    "\n",
    "The output of the dense layer will be $\\sigma(x)$, with $\\sigma(x) = \\frac{1}{1 + exp(-z)}$ where $z$ is just a linear combination of the LSTM outputs, i.e. $\\sum\\limits w_j x_j$ of the previous layer, where $w_j$ are the learnt weights  for the connection from the LSTM to the Dense layer and $x_j$ is the output of the LSTM. Conveniently, the output of $\\sigma(x)$ lies between $0$ and $1$ and matches our target well."
   ]
  },
  {
   "cell_type": "code",
   "execution_count": 8,
   "metadata": {
    "collapsed": false
   },
   "outputs": [],
   "source": [
    "output = Dense(1, activation='sigmoid', name='output')(x)"
   ]
  },
  {
   "cell_type": "markdown",
   "metadata": {},
   "source": [
    "Let's wrap up the input and output of our Model."
   ]
  },
  {
   "cell_type": "code",
   "execution_count": 9,
   "metadata": {
    "collapsed": false
   },
   "outputs": [],
   "source": [
    "model = Model(input=input, output=output)"
   ]
  },
  {
   "cell_type": "markdown",
   "metadata": {},
   "source": [
    "Now, we will compile our model. Here, we specify two parameters:\n",
    "\n",
    "- optimizer: an optimizer does all the work for us. Given the input and the computed errors, it decides which direction to take. There are quite a few [optimizers available in Keras](https://keras.io/optimizers/).\n",
    "- loss: the loss or objective function tells the model how well we are doing on our data. In our case, this is simply binary crossentropy, but in other cases this may be e.g. mean squared error. Note that this function needs to be differentiable because during training we need to be able to compute the weight updates. Hence, we cannot optimize for e.g. ROCAUC directly."
   ]
  },
  {
   "cell_type": "code",
   "execution_count": 10,
   "metadata": {
    "collapsed": false
   },
   "outputs": [],
   "source": [
    "model.compile(optimizer=Nadam(), loss=\"binary_crossentropy\")"
   ]
  },
  {
   "cell_type": "markdown",
   "metadata": {},
   "source": [
    "Let's print out a nice plot of our model."
   ]
  },
  {
   "cell_type": "code",
   "execution_count": 11,
   "metadata": {
    "collapsed": false,
    "scrolled": true
   },
   "outputs": [
    {
     "data": {
      "image/svg+xml": [
       "<svg height=\"221pt\" viewBox=\"0.00 0.00 277.00 221.00\" width=\"277pt\" xmlns=\"http://www.w3.org/2000/svg\" xmlns:xlink=\"http://www.w3.org/1999/xlink\">\n",
       "<g class=\"graph\" id=\"graph0\" transform=\"scale(1 1) rotate(0) translate(4 217)\">\n",
       "<title>G</title>\n",
       "<polygon fill=\"white\" points=\"-4,4 -4,-217 273,-217 273,4 -4,4\" stroke=\"none\"/>\n",
       "<!-- 140473925227216 -->\n",
       "<g class=\"node\" id=\"node1\"><title>140473925227216</title>\n",
       "<polygon fill=\"none\" points=\"0,-166.5 0,-212.5 269,-212.5 269,-166.5 0,-166.5\" stroke=\"black\"/>\n",
       "<text font-family=\"Times,serif\" font-size=\"14.00\" text-anchor=\"middle\" x=\"58.5\" y=\"-185.8\">inputs: InputLayer</text>\n",
       "<polyline fill=\"none\" points=\"117,-166.5 117,-212.5 \" stroke=\"black\"/>\n",
       "<text font-family=\"Times,serif\" font-size=\"14.00\" text-anchor=\"middle\" x=\"144.5\" y=\"-197.3\">input:</text>\n",
       "<polyline fill=\"none\" points=\"117,-189.5 172,-189.5 \" stroke=\"black\"/>\n",
       "<text font-family=\"Times,serif\" font-size=\"14.00\" text-anchor=\"middle\" x=\"144.5\" y=\"-174.3\">output:</text>\n",
       "<polyline fill=\"none\" points=\"172,-166.5 172,-212.5 \" stroke=\"black\"/>\n",
       "<text font-family=\"Times,serif\" font-size=\"14.00\" text-anchor=\"middle\" x=\"220.5\" y=\"-197.3\">(None, 90, 15)</text>\n",
       "<polyline fill=\"none\" points=\"172,-189.5 269,-189.5 \" stroke=\"black\"/>\n",
       "<text font-family=\"Times,serif\" font-size=\"14.00\" text-anchor=\"middle\" x=\"220.5\" y=\"-174.3\">(None, 90, 15)</text>\n",
       "</g>\n",
       "<!-- 140473117173264 -->\n",
       "<g class=\"node\" id=\"node2\"><title>140473117173264</title>\n",
       "<polygon fill=\"none\" points=\"9.5,-83.5 9.5,-129.5 259.5,-129.5 259.5,-83.5 9.5,-83.5\" stroke=\"black\"/>\n",
       "<text font-family=\"Times,serif\" font-size=\"14.00\" text-anchor=\"middle\" x=\"58.5\" y=\"-102.8\">lstm_1: LSTM</text>\n",
       "<polyline fill=\"none\" points=\"107.5,-83.5 107.5,-129.5 \" stroke=\"black\"/>\n",
       "<text font-family=\"Times,serif\" font-size=\"14.00\" text-anchor=\"middle\" x=\"135\" y=\"-114.3\">input:</text>\n",
       "<polyline fill=\"none\" points=\"107.5,-106.5 162.5,-106.5 \" stroke=\"black\"/>\n",
       "<text font-family=\"Times,serif\" font-size=\"14.00\" text-anchor=\"middle\" x=\"135\" y=\"-91.3\">output:</text>\n",
       "<polyline fill=\"none\" points=\"162.5,-83.5 162.5,-129.5 \" stroke=\"black\"/>\n",
       "<text font-family=\"Times,serif\" font-size=\"14.00\" text-anchor=\"middle\" x=\"211\" y=\"-114.3\">(None, 90, 15)</text>\n",
       "<polyline fill=\"none\" points=\"162.5,-106.5 259.5,-106.5 \" stroke=\"black\"/>\n",
       "<text font-family=\"Times,serif\" font-size=\"14.00\" text-anchor=\"middle\" x=\"211\" y=\"-91.3\">(None, 10)</text>\n",
       "</g>\n",
       "<!-- 140473925227216&#45;&gt;140473117173264 -->\n",
       "<g class=\"edge\" id=\"edge1\"><title>140473925227216-&gt;140473117173264</title>\n",
       "<path d=\"M134.5,-166.366C134.5,-158.152 134.5,-148.658 134.5,-139.725\" fill=\"none\" stroke=\"black\"/>\n",
       "<polygon fill=\"black\" points=\"138,-139.607 134.5,-129.607 131,-139.607 138,-139.607\" stroke=\"black\"/>\n",
       "</g>\n",
       "<!-- 140473112990224 -->\n",
       "<g class=\"node\" id=\"node3\"><title>140473112990224</title>\n",
       "<polygon fill=\"none\" points=\"23,-0.5 23,-46.5 246,-46.5 246,-0.5 23,-0.5\" stroke=\"black\"/>\n",
       "<text font-family=\"Times,serif\" font-size=\"14.00\" text-anchor=\"middle\" x=\"69\" y=\"-19.8\">output: Dense</text>\n",
       "<polyline fill=\"none\" points=\"115,-0.5 115,-46.5 \" stroke=\"black\"/>\n",
       "<text font-family=\"Times,serif\" font-size=\"14.00\" text-anchor=\"middle\" x=\"142.5\" y=\"-31.3\">input:</text>\n",
       "<polyline fill=\"none\" points=\"115,-23.5 170,-23.5 \" stroke=\"black\"/>\n",
       "<text font-family=\"Times,serif\" font-size=\"14.00\" text-anchor=\"middle\" x=\"142.5\" y=\"-8.3\">output:</text>\n",
       "<polyline fill=\"none\" points=\"170,-0.5 170,-46.5 \" stroke=\"black\"/>\n",
       "<text font-family=\"Times,serif\" font-size=\"14.00\" text-anchor=\"middle\" x=\"208\" y=\"-31.3\">(None, 10)</text>\n",
       "<polyline fill=\"none\" points=\"170,-23.5 246,-23.5 \" stroke=\"black\"/>\n",
       "<text font-family=\"Times,serif\" font-size=\"14.00\" text-anchor=\"middle\" x=\"208\" y=\"-8.3\">(None, 1)</text>\n",
       "</g>\n",
       "<!-- 140473117173264&#45;&gt;140473112990224 -->\n",
       "<g class=\"edge\" id=\"edge2\"><title>140473117173264-&gt;140473112990224</title>\n",
       "<path d=\"M134.5,-83.3664C134.5,-75.1516 134.5,-65.6579 134.5,-56.7252\" fill=\"none\" stroke=\"black\"/>\n",
       "<polygon fill=\"black\" points=\"138,-56.6068 134.5,-46.6068 131,-56.6069 138,-56.6068\" stroke=\"black\"/>\n",
       "</g>\n",
       "</g>\n",
       "</svg>"
      ],
      "text/plain": [
       "<IPython.core.display.SVG object>"
      ]
     },
     "execution_count": 11,
     "metadata": {},
     "output_type": "execute_result"
    }
   ],
   "source": [
    "SVG(model_to_dot(model, show_shapes=True).create(prog='dot', format='svg'))"
   ]
  },
  {
   "cell_type": "markdown",
   "metadata": {},
   "source": [
    "Note that *None* simply means that the model does not really care how many instances we input."
   ]
  },
  {
   "cell_type": "markdown",
   "metadata": {},
   "source": [
    "## Let's train!"
   ]
  },
  {
   "cell_type": "markdown",
   "metadata": {},
   "source": [
    "We train using a mini-batch size of 20 instances at a time. This speeds up things, because a mini-batch can be computed in parallel on a GPU. We train for eight epochs, i.e. we go over our training set three times.\n",
    "\n",
    "Conveniently, Keras will create a hold-out validation set automatically for us when giving the *validation_split* parameter. Let's set it to 20% of our data. **Please leave *verbose* at 2** in the following call, otherwise your notebook may freeze."
   ]
  },
  {
   "cell_type": "code",
   "execution_count": 12,
   "metadata": {
    "collapsed": false
   },
   "outputs": [
    {
     "name": "stdout",
     "output_type": "stream",
     "text": [
      "Train on 59659 samples, validate on 14915 samples\n",
      "Epoch 1/8\n",
      "\n",
      "Epoch validation AUC: 0.599408961409\n",
      "\n",
      "24s - loss: 0.0411 - val_loss: 0.0277\n",
      "Epoch 2/8\n",
      "\n",
      "Epoch validation AUC: 0.835174825175\n",
      "\n",
      "24s - loss: 0.0290 - val_loss: 0.0220\n",
      "Epoch 3/8\n",
      "\n",
      "Epoch validation AUC: 0.835212639213\n",
      "\n",
      "23s - loss: 0.0280 - val_loss: 0.0214\n",
      "Epoch 4/8\n",
      "\n",
      "Epoch validation AUC: 0.842813778814\n",
      "\n",
      "24s - loss: 0.0279 - val_loss: 0.0216\n",
      "Epoch 5/8\n",
      "\n",
      "Epoch validation AUC: 0.835188293188\n",
      "\n",
      "23s - loss: 0.0279 - val_loss: 0.0211\n",
      "Epoch 6/8\n",
      "\n",
      "Epoch validation AUC: 0.835188293188\n",
      "\n",
      "23s - loss: 0.0279 - val_loss: 0.0213\n",
      "Epoch 7/8\n",
      "\n",
      "Epoch validation AUC: 0.835188293188\n",
      "\n",
      "23s - loss: 0.0279 - val_loss: 0.0212\n",
      "Epoch 8/8\n",
      "\n",
      "Epoch validation AUC: 0.842765086765\n",
      "\n",
      "23s - loss: 0.0279 - val_loss: 0.0211\n"
     ]
    },
    {
     "data": {
      "text/plain": [
       "<keras.callbacks.History at 0x7fc2571acb50>"
      ]
     },
     "execution_count": 12,
     "metadata": {},
     "output_type": "execute_result"
    }
   ],
   "source": [
    "model.fit(data, labels, verbose=2, nb_epoch=8, batch_size=20, validation_split=0.2, callbacks=[AUCHistory()])"
   ]
  },
  {
   "cell_type": "markdown",
   "metadata": {},
   "source": [
    "That wasn't so bad. You can see that our network converges after the second epoch and neither our training loss nor the AUC improve anymore. "
   ]
  },
  {
   "cell_type": "markdown",
   "metadata": {},
   "source": [
    "## Task 1: Increase the number of neurons"
   ]
  },
  {
   "cell_type": "markdown",
   "metadata": {},
   "source": [
    "Maybe the model is simply to small to accomodate patterns in our data? Let's try to increase our neurons to 50.\n",
    "\n",
    "**Your task** is to:\n",
    "\n",
    "- Mark this chunk and select *Cell* and then *Run All Above*\n",
    "- Increase the number of neurons to 20"
   ]
  },
  {
   "cell_type": "code",
   "execution_count": 13,
   "metadata": {
    "collapsed": true
   },
   "outputs": [],
   "source": [
    "input = Input(shape=(n_records, n_features), name=\"inputs\")\n",
    "x = input\n",
    "x = LSTM(20)(x)\n",
    "output = Dense(1, activation='sigmoid', name='output')(x)\n",
    "model1 = Model(input=input, output=output)\n",
    "model1.compile(optimizer=Nadam(), loss=\"binary_crossentropy\")"
   ]
  },
  {
   "cell_type": "code",
   "execution_count": 14,
   "metadata": {
    "collapsed": false,
    "scrolled": true
   },
   "outputs": [
    {
     "name": "stdout",
     "output_type": "stream",
     "text": [
      "Train on 59659 samples, validate on 14915 samples\n",
      "Epoch 1/8\n",
      "\n",
      "Epoch validation AUC: 0.919364413364\n",
      "\n",
      "36s - loss: 0.0391 - val_loss: 0.0236\n",
      "Epoch 2/8\n",
      "\n",
      "Epoch validation AUC: 0.920628334628\n",
      "\n",
      "34s - loss: 0.0216 - val_loss: 0.0227\n",
      "Epoch 3/8\n",
      "\n",
      "Epoch validation AUC: 0.920628334628\n",
      "\n",
      "38s - loss: 0.0209 - val_loss: 0.0259\n",
      "Epoch 4/8\n",
      "\n",
      "Epoch validation AUC: 0.921917637918\n",
      "\n",
      "40s - loss: 0.0208 - val_loss: 0.0220\n",
      "Epoch 5/8\n",
      "\n",
      "Epoch validation AUC: 0.920603470603\n",
      "\n",
      "39s - loss: 0.0207 - val_loss: 0.0225\n",
      "Epoch 6/8\n",
      "\n",
      "Epoch validation AUC: 0.920603470603\n",
      "\n",
      "36s - loss: 0.0207 - val_loss: 0.0238\n",
      "Epoch 7/8\n",
      "\n",
      "Epoch validation AUC: 0.920603470603\n",
      "\n",
      "41s - loss: 0.0206 - val_loss: 0.0240\n",
      "Epoch 8/8\n",
      "\n",
      "Epoch validation AUC: 0.917975135975\n",
      "\n",
      "49s - loss: 0.0206 - val_loss: 0.0237\n"
     ]
    },
    {
     "data": {
      "text/plain": [
       "<keras.callbacks.History at 0x7fc253fd8a50>"
      ]
     },
     "execution_count": 14,
     "metadata": {},
     "output_type": "execute_result"
    }
   ],
   "source": [
    "model1.fit(data, labels, verbose=2, nb_epoch=8, batch_size=20, validation_split=0.2, callbacks=[AUCHistory()])"
   ]
  },
  {
   "cell_type": "markdown",
   "metadata": {},
   "source": [
    "This is much better! If you want, you can try a different number of neurons."
   ]
  },
  {
   "cell_type": "markdown",
   "metadata": {},
   "source": [
    "## Task 2: Add another layer"
   ]
  },
  {
   "cell_type": "markdown",
   "metadata": {},
   "source": [
    "Let's make our model deeper! This is deep learning after all. Note that our network is already deep in time, i.e. we take into consideration 90 time steps. But we can also make it deeper vertically.\n",
    "\n",
    "Your task is to\n",
    "\n",
    "- stack another LSTM layer on top of the layer we already have.\n",
    "\n",
    "At each time step, the first LSTM will feed into the second LSTM. This is called stacking.\n",
    "\n",
    "Note that for this, you have to set *return_sequences=True* in the first LSTM. Do you understand why this is required?"
   ]
  },
  {
   "cell_type": "code",
   "execution_count": 15,
   "metadata": {
    "collapsed": false
   },
   "outputs": [],
   "source": [
    "input = Input(shape=(n_records, n_features), name=\"inputs\")\n",
    "x = input\n",
    "\n",
    "### Your code goes here:\n",
    "x = LSTM(30, return_sequences=True)(x)\n",
    "x = LSTM(30)(x)\n",
    "##\n",
    "\n",
    "output = Dense(1, activation='sigmoid', name='output')(x)\n",
    "model2 = Model(input=input, output=output)\n",
    "model2.compile(optimizer=Nadam(), loss=\"binary_crossentropy\")"
   ]
  },
  {
   "cell_type": "code",
   "execution_count": 16,
   "metadata": {
    "collapsed": false,
    "scrolled": true
   },
   "outputs": [
    {
     "data": {
      "image/svg+xml": [
       "<svg height=\"304pt\" viewBox=\"0.00 0.00 277.00 304.00\" width=\"277pt\" xmlns=\"http://www.w3.org/2000/svg\" xmlns:xlink=\"http://www.w3.org/1999/xlink\">\n",
       "<g class=\"graph\" id=\"graph0\" transform=\"scale(1 1) rotate(0) translate(4 300)\">\n",
       "<title>G</title>\n",
       "<polygon fill=\"white\" points=\"-4,4 -4,-300 273,-300 273,4 -4,4\" stroke=\"none\"/>\n",
       "<!-- 140472580647952 -->\n",
       "<g class=\"node\" id=\"node1\"><title>140472580647952</title>\n",
       "<polygon fill=\"none\" points=\"0,-249.5 0,-295.5 269,-295.5 269,-249.5 0,-249.5\" stroke=\"black\"/>\n",
       "<text font-family=\"Times,serif\" font-size=\"14.00\" text-anchor=\"middle\" x=\"58.5\" y=\"-268.8\">inputs: InputLayer</text>\n",
       "<polyline fill=\"none\" points=\"117,-249.5 117,-295.5 \" stroke=\"black\"/>\n",
       "<text font-family=\"Times,serif\" font-size=\"14.00\" text-anchor=\"middle\" x=\"144.5\" y=\"-280.3\">input:</text>\n",
       "<polyline fill=\"none\" points=\"117,-272.5 172,-272.5 \" stroke=\"black\"/>\n",
       "<text font-family=\"Times,serif\" font-size=\"14.00\" text-anchor=\"middle\" x=\"144.5\" y=\"-257.3\">output:</text>\n",
       "<polyline fill=\"none\" points=\"172,-249.5 172,-295.5 \" stroke=\"black\"/>\n",
       "<text font-family=\"Times,serif\" font-size=\"14.00\" text-anchor=\"middle\" x=\"220.5\" y=\"-280.3\">(None, 90, 15)</text>\n",
       "<polyline fill=\"none\" points=\"172,-272.5 269,-272.5 \" stroke=\"black\"/>\n",
       "<text font-family=\"Times,serif\" font-size=\"14.00\" text-anchor=\"middle\" x=\"220.5\" y=\"-257.3\">(None, 90, 15)</text>\n",
       "</g>\n",
       "<!-- 140472580648016 -->\n",
       "<g class=\"node\" id=\"node2\"><title>140472580648016</title>\n",
       "<polygon fill=\"none\" points=\"9.5,-166.5 9.5,-212.5 259.5,-212.5 259.5,-166.5 9.5,-166.5\" stroke=\"black\"/>\n",
       "<text font-family=\"Times,serif\" font-size=\"14.00\" text-anchor=\"middle\" x=\"58.5\" y=\"-185.8\">lstm_3: LSTM</text>\n",
       "<polyline fill=\"none\" points=\"107.5,-166.5 107.5,-212.5 \" stroke=\"black\"/>\n",
       "<text font-family=\"Times,serif\" font-size=\"14.00\" text-anchor=\"middle\" x=\"135\" y=\"-197.3\">input:</text>\n",
       "<polyline fill=\"none\" points=\"107.5,-189.5 162.5,-189.5 \" stroke=\"black\"/>\n",
       "<text font-family=\"Times,serif\" font-size=\"14.00\" text-anchor=\"middle\" x=\"135\" y=\"-174.3\">output:</text>\n",
       "<polyline fill=\"none\" points=\"162.5,-166.5 162.5,-212.5 \" stroke=\"black\"/>\n",
       "<text font-family=\"Times,serif\" font-size=\"14.00\" text-anchor=\"middle\" x=\"211\" y=\"-197.3\">(None, 90, 15)</text>\n",
       "<polyline fill=\"none\" points=\"162.5,-189.5 259.5,-189.5 \" stroke=\"black\"/>\n",
       "<text font-family=\"Times,serif\" font-size=\"14.00\" text-anchor=\"middle\" x=\"211\" y=\"-174.3\">(None, 90, 30)</text>\n",
       "</g>\n",
       "<!-- 140472580647952&#45;&gt;140472580648016 -->\n",
       "<g class=\"edge\" id=\"edge1\"><title>140472580647952-&gt;140472580648016</title>\n",
       "<path d=\"M134.5,-249.366C134.5,-241.152 134.5,-231.658 134.5,-222.725\" fill=\"none\" stroke=\"black\"/>\n",
       "<polygon fill=\"black\" points=\"138,-222.607 134.5,-212.607 131,-222.607 138,-222.607\" stroke=\"black\"/>\n",
       "</g>\n",
       "<!-- 140472580647504 -->\n",
       "<g class=\"node\" id=\"node3\"><title>140472580647504</title>\n",
       "<polygon fill=\"none\" points=\"9.5,-83.5 9.5,-129.5 259.5,-129.5 259.5,-83.5 9.5,-83.5\" stroke=\"black\"/>\n",
       "<text font-family=\"Times,serif\" font-size=\"14.00\" text-anchor=\"middle\" x=\"58.5\" y=\"-102.8\">lstm_4: LSTM</text>\n",
       "<polyline fill=\"none\" points=\"107.5,-83.5 107.5,-129.5 \" stroke=\"black\"/>\n",
       "<text font-family=\"Times,serif\" font-size=\"14.00\" text-anchor=\"middle\" x=\"135\" y=\"-114.3\">input:</text>\n",
       "<polyline fill=\"none\" points=\"107.5,-106.5 162.5,-106.5 \" stroke=\"black\"/>\n",
       "<text font-family=\"Times,serif\" font-size=\"14.00\" text-anchor=\"middle\" x=\"135\" y=\"-91.3\">output:</text>\n",
       "<polyline fill=\"none\" points=\"162.5,-83.5 162.5,-129.5 \" stroke=\"black\"/>\n",
       "<text font-family=\"Times,serif\" font-size=\"14.00\" text-anchor=\"middle\" x=\"211\" y=\"-114.3\">(None, 90, 30)</text>\n",
       "<polyline fill=\"none\" points=\"162.5,-106.5 259.5,-106.5 \" stroke=\"black\"/>\n",
       "<text font-family=\"Times,serif\" font-size=\"14.00\" text-anchor=\"middle\" x=\"211\" y=\"-91.3\">(None, 30)</text>\n",
       "</g>\n",
       "<!-- 140472580648016&#45;&gt;140472580647504 -->\n",
       "<g class=\"edge\" id=\"edge2\"><title>140472580648016-&gt;140472580647504</title>\n",
       "<path d=\"M134.5,-166.366C134.5,-158.152 134.5,-148.658 134.5,-139.725\" fill=\"none\" stroke=\"black\"/>\n",
       "<polygon fill=\"black\" points=\"138,-139.607 134.5,-129.607 131,-139.607 138,-139.607\" stroke=\"black\"/>\n",
       "</g>\n",
       "<!-- 140472613296912 -->\n",
       "<g class=\"node\" id=\"node4\"><title>140472613296912</title>\n",
       "<polygon fill=\"none\" points=\"23,-0.5 23,-46.5 246,-46.5 246,-0.5 23,-0.5\" stroke=\"black\"/>\n",
       "<text font-family=\"Times,serif\" font-size=\"14.00\" text-anchor=\"middle\" x=\"69\" y=\"-19.8\">output: Dense</text>\n",
       "<polyline fill=\"none\" points=\"115,-0.5 115,-46.5 \" stroke=\"black\"/>\n",
       "<text font-family=\"Times,serif\" font-size=\"14.00\" text-anchor=\"middle\" x=\"142.5\" y=\"-31.3\">input:</text>\n",
       "<polyline fill=\"none\" points=\"115,-23.5 170,-23.5 \" stroke=\"black\"/>\n",
       "<text font-family=\"Times,serif\" font-size=\"14.00\" text-anchor=\"middle\" x=\"142.5\" y=\"-8.3\">output:</text>\n",
       "<polyline fill=\"none\" points=\"170,-0.5 170,-46.5 \" stroke=\"black\"/>\n",
       "<text font-family=\"Times,serif\" font-size=\"14.00\" text-anchor=\"middle\" x=\"208\" y=\"-31.3\">(None, 30)</text>\n",
       "<polyline fill=\"none\" points=\"170,-23.5 246,-23.5 \" stroke=\"black\"/>\n",
       "<text font-family=\"Times,serif\" font-size=\"14.00\" text-anchor=\"middle\" x=\"208\" y=\"-8.3\">(None, 1)</text>\n",
       "</g>\n",
       "<!-- 140472580647504&#45;&gt;140472613296912 -->\n",
       "<g class=\"edge\" id=\"edge3\"><title>140472580647504-&gt;140472613296912</title>\n",
       "<path d=\"M134.5,-83.3664C134.5,-75.1516 134.5,-65.6579 134.5,-56.7252\" fill=\"none\" stroke=\"black\"/>\n",
       "<polygon fill=\"black\" points=\"138,-56.6068 134.5,-46.6068 131,-56.6069 138,-56.6068\" stroke=\"black\"/>\n",
       "</g>\n",
       "</g>\n",
       "</svg>"
      ],
      "text/plain": [
       "<IPython.core.display.SVG object>"
      ]
     },
     "execution_count": 16,
     "metadata": {},
     "output_type": "execute_result"
    }
   ],
   "source": [
    "SVG(model_to_dot(model2, show_shapes=True).create(prog='dot', format='svg'))"
   ]
  },
  {
   "cell_type": "code",
   "execution_count": 17,
   "metadata": {
    "collapsed": false
   },
   "outputs": [
    {
     "name": "stdout",
     "output_type": "stream",
     "text": [
      "Train on 59659 samples, validate on 14915 samples\n",
      "Epoch 1/8\n",
      "\n",
      "Epoch validation AUC: 0.955261849262\n",
      "\n",
      "132s - loss: 0.0262 - val_loss: 0.0294\n",
      "Epoch 2/8\n",
      "\n",
      "Epoch validation AUC: 0.955068117068\n",
      "\n",
      "128s - loss: 0.0207 - val_loss: 0.0202\n",
      "Epoch 3/8\n",
      "\n",
      "Epoch validation AUC: 0.908868686869\n",
      "\n",
      "129s - loss: 0.0194 - val_loss: 0.0250\n",
      "Epoch 4/8\n",
      "\n",
      "Epoch validation AUC: 0.908648018648\n",
      "\n",
      "126s - loss: 0.0184 - val_loss: 0.0283\n",
      "Epoch 5/8\n",
      "\n",
      "Epoch validation AUC: 0.965678839679\n",
      "\n",
      "129s - loss: 0.0185 - val_loss: 0.0211\n",
      "Epoch 6/8\n",
      "\n",
      "Epoch validation AUC: 0.940064750065\n",
      "\n",
      "124s - loss: 0.0183 - val_loss: 0.0275\n",
      "Epoch 7/8\n",
      "\n",
      "Epoch validation AUC: 0.94785962186\n",
      "\n",
      "119s - loss: 0.0182 - val_loss: 0.0230\n",
      "Epoch 8/8\n",
      "\n",
      "Epoch validation AUC: 0.959258741259\n",
      "\n",
      "130s - loss: 0.0182 - val_loss: 0.0230\n"
     ]
    },
    {
     "data": {
      "text/plain": [
       "<keras.callbacks.History at 0x7fc24e6cb050>"
      ]
     },
     "execution_count": 17,
     "metadata": {},
     "output_type": "execute_result"
    }
   ],
   "source": [
    "model2.fit(data, labels, verbose=2, nb_epoch=8, batch_size=20, validation_split=0.2, callbacks=[AUCHistory()])"
   ]
  },
  {
   "cell_type": "markdown",
   "metadata": {},
   "source": [
    "## Task 3: Change the architecture"
   ]
  },
  {
   "cell_type": "markdown",
   "metadata": {},
   "source": [
    "This task will be a bit more challenging. We are going to use an additional attribute: the disk's model. However, because this attribute is constant in a disks's time series, we will not add it to LSTM that summarizes the time series.\n",
    "\n",
    "Instead, we will *merge* the $n$-dimensional vector output of the LSTM with a $m$-dimensional vector, where merging means concatenating the two vectors into a vector of dimensionality $n+m$.\n",
    "\n",
    "Conveniently, we have already encoded the disk's model as a one-hot vector, i.e. the columns in the following matrix correspond to unique disk models and the rows to individual disks."
   ]
  },
  {
   "cell_type": "code",
   "execution_count": 18,
   "metadata": {
    "collapsed": true
   },
   "outputs": [],
   "source": [
    "models = saved[\"models\"]"
   ]
  },
  {
   "cell_type": "code",
   "execution_count": 19,
   "metadata": {
    "collapsed": false
   },
   "outputs": [
    {
     "data": {
      "text/plain": [
       "(74574, 63)"
      ]
     },
     "execution_count": 19,
     "metadata": {},
     "output_type": "execute_result"
    }
   ],
   "source": [
    "models.shape"
   ]
  },
  {
   "cell_type": "markdown",
   "metadata": {},
   "source": [
    "In this task, you have to do the following:\n",
    "\n",
    "- Create a second Input with shape `(number_of_models, )`. Note that you do not need masking here because we are at this step no longer working with a time series with missing observations.\n",
    "- Introduce a [Merge](https://keras.io/getting-started/sequential-model-guide/#the-merge-layer) layer that merges `[x, your_new_input]`\n",
    "- Modify the `Model` instantiation to take two inputs simultaneously, similar to what you have done in the previous step."
   ]
  },
  {
   "cell_type": "code",
   "execution_count": 20,
   "metadata": {
    "collapsed": false
   },
   "outputs": [],
   "source": [
    "input = Input(shape=(n_records, n_features), name=\"inputs\")\n",
    "input2 = Input(shape=(models.shape[1], ))\n",
    "\n",
    "x = input\n",
    "x = LSTM(20, return_sequences=True)(x)\n",
    "x = LSTM(20)(x)\n",
    "\n",
    "x2 = input2\n",
    "\n",
    "x = merge([x, x2], mode=\"concat\")\n",
    "\n",
    "output = Dense(1, activation='sigmoid', name='output')(x)\n",
    "model3 = Model(input=[input, input2], output=output)\n",
    "model3.compile(optimizer=Nadam(), loss=\"binary_crossentropy\")"
   ]
  },
  {
   "cell_type": "code",
   "execution_count": 21,
   "metadata": {
    "collapsed": false
   },
   "outputs": [
    {
     "data": {
      "image/svg+xml": [
       "<svg height=\"387pt\" viewBox=\"0.00 0.00 541.50 387.00\" width=\"542pt\" xmlns=\"http://www.w3.org/2000/svg\" xmlns:xlink=\"http://www.w3.org/1999/xlink\">\n",
       "<g class=\"graph\" id=\"graph0\" transform=\"scale(1 1) rotate(0) translate(4 383)\">\n",
       "<title>G</title>\n",
       "<polygon fill=\"white\" points=\"-4,4 -4,-383 537.5,-383 537.5,4 -4,4\" stroke=\"none\"/>\n",
       "<!-- 140472466039184 -->\n",
       "<g class=\"node\" id=\"node1\"><title>140472466039184</title>\n",
       "<polygon fill=\"none\" points=\"0,-332.5 0,-378.5 269,-378.5 269,-332.5 0,-332.5\" stroke=\"black\"/>\n",
       "<text font-family=\"Times,serif\" font-size=\"14.00\" text-anchor=\"middle\" x=\"58.5\" y=\"-351.8\">inputs: InputLayer</text>\n",
       "<polyline fill=\"none\" points=\"117,-332.5 117,-378.5 \" stroke=\"black\"/>\n",
       "<text font-family=\"Times,serif\" font-size=\"14.00\" text-anchor=\"middle\" x=\"144.5\" y=\"-363.3\">input:</text>\n",
       "<polyline fill=\"none\" points=\"117,-355.5 172,-355.5 \" stroke=\"black\"/>\n",
       "<text font-family=\"Times,serif\" font-size=\"14.00\" text-anchor=\"middle\" x=\"144.5\" y=\"-340.3\">output:</text>\n",
       "<polyline fill=\"none\" points=\"172,-332.5 172,-378.5 \" stroke=\"black\"/>\n",
       "<text font-family=\"Times,serif\" font-size=\"14.00\" text-anchor=\"middle\" x=\"220.5\" y=\"-363.3\">(None, 90, 15)</text>\n",
       "<polyline fill=\"none\" points=\"172,-355.5 269,-355.5 \" stroke=\"black\"/>\n",
       "<text font-family=\"Times,serif\" font-size=\"14.00\" text-anchor=\"middle\" x=\"220.5\" y=\"-340.3\">(None, 90, 15)</text>\n",
       "</g>\n",
       "<!-- 140472466039824 -->\n",
       "<g class=\"node\" id=\"node2\"><title>140472466039824</title>\n",
       "<polygon fill=\"none\" points=\"9.5,-249.5 9.5,-295.5 259.5,-295.5 259.5,-249.5 9.5,-249.5\" stroke=\"black\"/>\n",
       "<text font-family=\"Times,serif\" font-size=\"14.00\" text-anchor=\"middle\" x=\"58.5\" y=\"-268.8\">lstm_5: LSTM</text>\n",
       "<polyline fill=\"none\" points=\"107.5,-249.5 107.5,-295.5 \" stroke=\"black\"/>\n",
       "<text font-family=\"Times,serif\" font-size=\"14.00\" text-anchor=\"middle\" x=\"135\" y=\"-280.3\">input:</text>\n",
       "<polyline fill=\"none\" points=\"107.5,-272.5 162.5,-272.5 \" stroke=\"black\"/>\n",
       "<text font-family=\"Times,serif\" font-size=\"14.00\" text-anchor=\"middle\" x=\"135\" y=\"-257.3\">output:</text>\n",
       "<polyline fill=\"none\" points=\"162.5,-249.5 162.5,-295.5 \" stroke=\"black\"/>\n",
       "<text font-family=\"Times,serif\" font-size=\"14.00\" text-anchor=\"middle\" x=\"211\" y=\"-280.3\">(None, 90, 15)</text>\n",
       "<polyline fill=\"none\" points=\"162.5,-272.5 259.5,-272.5 \" stroke=\"black\"/>\n",
       "<text font-family=\"Times,serif\" font-size=\"14.00\" text-anchor=\"middle\" x=\"211\" y=\"-257.3\">(None, 90, 20)</text>\n",
       "</g>\n",
       "<!-- 140472466039184&#45;&gt;140472466039824 -->\n",
       "<g class=\"edge\" id=\"edge1\"><title>140472466039184-&gt;140472466039824</title>\n",
       "<path d=\"M134.5,-332.366C134.5,-324.152 134.5,-314.658 134.5,-305.725\" fill=\"none\" stroke=\"black\"/>\n",
       "<polygon fill=\"black\" points=\"138,-305.607 134.5,-295.607 131,-305.607 138,-305.607\" stroke=\"black\"/>\n",
       "</g>\n",
       "<!-- 140472466039504 -->\n",
       "<g class=\"node\" id=\"node3\"><title>140472466039504</title>\n",
       "<polygon fill=\"none\" points=\"9.5,-166.5 9.5,-212.5 259.5,-212.5 259.5,-166.5 9.5,-166.5\" stroke=\"black\"/>\n",
       "<text font-family=\"Times,serif\" font-size=\"14.00\" text-anchor=\"middle\" x=\"58.5\" y=\"-185.8\">lstm_6: LSTM</text>\n",
       "<polyline fill=\"none\" points=\"107.5,-166.5 107.5,-212.5 \" stroke=\"black\"/>\n",
       "<text font-family=\"Times,serif\" font-size=\"14.00\" text-anchor=\"middle\" x=\"135\" y=\"-197.3\">input:</text>\n",
       "<polyline fill=\"none\" points=\"107.5,-189.5 162.5,-189.5 \" stroke=\"black\"/>\n",
       "<text font-family=\"Times,serif\" font-size=\"14.00\" text-anchor=\"middle\" x=\"135\" y=\"-174.3\">output:</text>\n",
       "<polyline fill=\"none\" points=\"162.5,-166.5 162.5,-212.5 \" stroke=\"black\"/>\n",
       "<text font-family=\"Times,serif\" font-size=\"14.00\" text-anchor=\"middle\" x=\"211\" y=\"-197.3\">(None, 90, 20)</text>\n",
       "<polyline fill=\"none\" points=\"162.5,-189.5 259.5,-189.5 \" stroke=\"black\"/>\n",
       "<text font-family=\"Times,serif\" font-size=\"14.00\" text-anchor=\"middle\" x=\"211\" y=\"-174.3\">(None, 20)</text>\n",
       "</g>\n",
       "<!-- 140472466039824&#45;&gt;140472466039504 -->\n",
       "<g class=\"edge\" id=\"edge2\"><title>140472466039824-&gt;140472466039504</title>\n",
       "<path d=\"M134.5,-249.366C134.5,-241.152 134.5,-231.658 134.5,-222.725\" fill=\"none\" stroke=\"black\"/>\n",
       "<polygon fill=\"black\" points=\"138,-222.607 134.5,-212.607 131,-222.607 138,-222.607\" stroke=\"black\"/>\n",
       "</g>\n",
       "<!-- 140472459647504 -->\n",
       "<g class=\"node\" id=\"node5\"><title>140472459647504</title>\n",
       "<polygon fill=\"none\" points=\"112,-83.5 112,-129.5 427,-129.5 427,-83.5 112,-83.5\" stroke=\"black\"/>\n",
       "<text font-family=\"Times,serif\" font-size=\"14.00\" text-anchor=\"middle\" x=\"166\" y=\"-102.8\">merge_1: Merge</text>\n",
       "<polyline fill=\"none\" points=\"220,-83.5 220,-129.5 \" stroke=\"black\"/>\n",
       "<text font-family=\"Times,serif\" font-size=\"14.00\" text-anchor=\"middle\" x=\"247.5\" y=\"-114.3\">input:</text>\n",
       "<polyline fill=\"none\" points=\"220,-106.5 275,-106.5 \" stroke=\"black\"/>\n",
       "<text font-family=\"Times,serif\" font-size=\"14.00\" text-anchor=\"middle\" x=\"247.5\" y=\"-91.3\">output:</text>\n",
       "<polyline fill=\"none\" points=\"275,-83.5 275,-129.5 \" stroke=\"black\"/>\n",
       "<text font-family=\"Times,serif\" font-size=\"14.00\" text-anchor=\"middle\" x=\"351\" y=\"-114.3\">[(None, 20), (None, 63)]</text>\n",
       "<polyline fill=\"none\" points=\"275,-106.5 427,-106.5 \" stroke=\"black\"/>\n",
       "<text font-family=\"Times,serif\" font-size=\"14.00\" text-anchor=\"middle\" x=\"351\" y=\"-91.3\">(None, 83)</text>\n",
       "</g>\n",
       "<!-- 140472466039504&#45;&gt;140472459647504 -->\n",
       "<g class=\"edge\" id=\"edge3\"><title>140472466039504-&gt;140472459647504</title>\n",
       "<path d=\"M171.389,-166.366C187.61,-156.634 206.824,-145.106 223.929,-134.842\" fill=\"none\" stroke=\"black\"/>\n",
       "<polygon fill=\"black\" points=\"225.881,-137.753 232.655,-129.607 222.28,-131.751 225.881,-137.753\" stroke=\"black\"/>\n",
       "</g>\n",
       "<!-- 140472466039120 -->\n",
       "<g class=\"node\" id=\"node4\"><title>140472466039120</title>\n",
       "<polygon fill=\"none\" points=\"277.5,-166.5 277.5,-212.5 533.5,-212.5 533.5,-166.5 277.5,-166.5\" stroke=\"black\"/>\n",
       "<text font-family=\"Times,serif\" font-size=\"14.00\" text-anchor=\"middle\" x=\"340\" y=\"-185.8\">input_1: InputLayer</text>\n",
       "<polyline fill=\"none\" points=\"402.5,-166.5 402.5,-212.5 \" stroke=\"black\"/>\n",
       "<text font-family=\"Times,serif\" font-size=\"14.00\" text-anchor=\"middle\" x=\"430\" y=\"-197.3\">input:</text>\n",
       "<polyline fill=\"none\" points=\"402.5,-189.5 457.5,-189.5 \" stroke=\"black\"/>\n",
       "<text font-family=\"Times,serif\" font-size=\"14.00\" text-anchor=\"middle\" x=\"430\" y=\"-174.3\">output:</text>\n",
       "<polyline fill=\"none\" points=\"457.5,-166.5 457.5,-212.5 \" stroke=\"black\"/>\n",
       "<text font-family=\"Times,serif\" font-size=\"14.00\" text-anchor=\"middle\" x=\"495.5\" y=\"-197.3\">(None, 63)</text>\n",
       "<polyline fill=\"none\" points=\"457.5,-189.5 533.5,-189.5 \" stroke=\"black\"/>\n",
       "<text font-family=\"Times,serif\" font-size=\"14.00\" text-anchor=\"middle\" x=\"495.5\" y=\"-174.3\">(None, 63)</text>\n",
       "</g>\n",
       "<!-- 140472466039120&#45;&gt;140472459647504 -->\n",
       "<g class=\"edge\" id=\"edge4\"><title>140472466039120-&gt;140472459647504</title>\n",
       "<path d=\"M368.337,-166.366C351.996,-156.634 332.64,-145.106 315.408,-134.842\" fill=\"none\" stroke=\"black\"/>\n",
       "<polygon fill=\"black\" points=\"317,-131.717 306.618,-129.607 313.418,-137.731 317,-131.717\" stroke=\"black\"/>\n",
       "</g>\n",
       "<!-- 140472459647568 -->\n",
       "<g class=\"node\" id=\"node6\"><title>140472459647568</title>\n",
       "<polygon fill=\"none\" points=\"158,-0.5 158,-46.5 381,-46.5 381,-0.5 158,-0.5\" stroke=\"black\"/>\n",
       "<text font-family=\"Times,serif\" font-size=\"14.00\" text-anchor=\"middle\" x=\"204\" y=\"-19.8\">output: Dense</text>\n",
       "<polyline fill=\"none\" points=\"250,-0.5 250,-46.5 \" stroke=\"black\"/>\n",
       "<text font-family=\"Times,serif\" font-size=\"14.00\" text-anchor=\"middle\" x=\"277.5\" y=\"-31.3\">input:</text>\n",
       "<polyline fill=\"none\" points=\"250,-23.5 305,-23.5 \" stroke=\"black\"/>\n",
       "<text font-family=\"Times,serif\" font-size=\"14.00\" text-anchor=\"middle\" x=\"277.5\" y=\"-8.3\">output:</text>\n",
       "<polyline fill=\"none\" points=\"305,-0.5 305,-46.5 \" stroke=\"black\"/>\n",
       "<text font-family=\"Times,serif\" font-size=\"14.00\" text-anchor=\"middle\" x=\"343\" y=\"-31.3\">(None, 83)</text>\n",
       "<polyline fill=\"none\" points=\"305,-23.5 381,-23.5 \" stroke=\"black\"/>\n",
       "<text font-family=\"Times,serif\" font-size=\"14.00\" text-anchor=\"middle\" x=\"343\" y=\"-8.3\">(None, 1)</text>\n",
       "</g>\n",
       "<!-- 140472459647504&#45;&gt;140472459647568 -->\n",
       "<g class=\"edge\" id=\"edge5\"><title>140472459647504-&gt;140472459647568</title>\n",
       "<path d=\"M269.5,-83.3664C269.5,-75.1516 269.5,-65.6579 269.5,-56.7252\" fill=\"none\" stroke=\"black\"/>\n",
       "<polygon fill=\"black\" points=\"273,-56.6068 269.5,-46.6068 266,-56.6069 273,-56.6068\" stroke=\"black\"/>\n",
       "</g>\n",
       "</g>\n",
       "</svg>"
      ],
      "text/plain": [
       "<IPython.core.display.SVG object>"
      ]
     },
     "execution_count": 21,
     "metadata": {},
     "output_type": "execute_result"
    }
   ],
   "source": [
    "SVG(model_to_dot(model3, show_shapes=True).create(prog='dot', format='svg'))"
   ]
  },
  {
   "cell_type": "code",
   "execution_count": 22,
   "metadata": {
    "collapsed": false,
    "scrolled": true
   },
   "outputs": [
    {
     "name": "stdout",
     "output_type": "stream",
     "text": [
      "Train on 59659 samples, validate on 14915 samples\n",
      "Epoch 1/10\n",
      "\n",
      "Epoch validation AUC: 0.973593369593\n",
      "\n",
      "91s - loss: 0.0265 - val_loss: 0.0367\n",
      "Epoch 2/10\n",
      "\n",
      "Epoch validation AUC: 0.970472934473\n",
      "\n",
      "75s - loss: 0.0134 - val_loss: 0.0491\n",
      "Epoch 3/10\n",
      "\n",
      "Epoch validation AUC: 0.970769230769\n",
      "\n",
      "75s - loss: 0.0118 - val_loss: 0.0448\n",
      "Epoch 4/10\n",
      "\n",
      "Epoch validation AUC: 0.973865837866\n",
      "\n",
      "75s - loss: 0.0120 - val_loss: 0.0557\n",
      "Epoch 5/10\n",
      "\n",
      "Epoch validation AUC: 0.977092981093\n",
      "\n",
      "76s - loss: 0.0109 - val_loss: 0.0585\n",
      "Epoch 6/10\n",
      "\n",
      "Epoch validation AUC: 0.976356902357\n",
      "\n",
      "77s - loss: 0.0108 - val_loss: 0.0452\n",
      "Epoch 7/10\n",
      "\n",
      "Epoch validation AUC: 0.973822325822\n",
      "\n",
      "80s - loss: 0.0108 - val_loss: 0.0573\n",
      "Epoch 8/10\n",
      "\n",
      "Epoch validation AUC: 0.973641025641\n",
      "\n",
      "78s - loss: 0.0105 - val_loss: 0.0591\n",
      "Epoch 9/10\n",
      "\n",
      "Epoch validation AUC: 0.97258016058\n",
      "\n",
      "81s - loss: 0.0099 - val_loss: 0.0949\n",
      "Epoch 10/10\n",
      "\n",
      "Epoch validation AUC: 0.964224812225\n",
      "\n",
      "79s - loss: 0.0098 - val_loss: 0.0921\n"
     ]
    },
    {
     "data": {
      "text/plain": [
       "<keras.callbacks.History at 0x7fc2457c9590>"
      ]
     },
     "execution_count": 22,
     "metadata": {},
     "output_type": "execute_result"
    }
   ],
   "source": [
    "model3.fit([data, models], labels, verbose=2, nb_epoch=10, batch_size=20, validation_split=0.2, callbacks=[AUCHistory()])"
   ]
  },
  {
   "cell_type": "markdown",
   "metadata": {},
   "source": [
    "It's still getting better! This concludes the second deep learning tutorial.\n",
    "\n",
    "If you still have some free time, you are welcome to experiment further with our architecture. Things you may want to try:\n",
    "\n",
    "- Use GRU instead of LSTM units\n",
    "- Introduce regularization such as dropout"
   ]
  }
 ],
 "metadata": {
  "kernelspec": {
   "display_name": "Python 2",
   "language": "python",
   "name": "python2"
  },
  "language_info": {
   "codemirror_mode": {
    "name": "ipython",
    "version": 2
   },
   "file_extension": ".py",
   "mimetype": "text/x-python",
   "name": "python",
   "nbconvert_exporter": "python",
   "pygments_lexer": "ipython2",
   "version": "2.7.12"
  }
 },
 "nbformat": 4,
 "nbformat_minor": 2
}
